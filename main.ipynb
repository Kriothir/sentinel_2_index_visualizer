{
 "cells": [
  {
   "cell_type": "code",
   "execution_count": 35,
   "metadata": {},
   "outputs": [],
   "source": [
    "import rasterio\n",
    "import numpy as np\n",
    "import matplotlib.pyplot as plt\n",
    "import glob\n",
    "import re\n",
    "import os\n",
    "\n",
    "DIRECTORY_PATH = 'data/GRANULE/L2A_T33TVM_A048639_20241014T101725/IMG_DATA'\n",
    "\n",
    "\n",
    "BLUE_BAND_10M_FILENAME = 'B04_10m.jp2'\n",
    "BLUE_BAND_20M_FILENAME = 'B04_20m.jp2'\n",
    "BLUE_BAND_60M_FILENAME = 'B04_60m.jp2'\n",
    "GREEN_BAND_10M_FILENAME = 'B03_10m.jp2'\n",
    "GREEN_BAND_20M_FILENAME = 'B03_20m.jp2'\n",
    "GREEN_BAND_60M_FILENAME = 'B03_60m.jp2'\n",
    "RED_BAND_10M_FILENAME = 'B04_10m.jp2'\n",
    "RED_BAND_20M_FILENAME = 'B04_20m.jp2'\n",
    "RED_BAND_60M_FILENAME = 'B04_60m.jp2'\n",
    "NIR_BAND_10M_FILENAME = 'B08_10m.jp2'\n",
    "NEAR_RED_BAND_20M_FILENAME = 'B8A_20m.jp2'\n",
    "NEAR_NIR_BAND_60M_FILENAME = 'B8A_60m.jp2'\n",
    "WATER_VAPOR_BAND_60M_FILENAME = 'B09_60m.jp2'\n",
    "SWIR_BAND_20M_FILENAME = 'B11_20m.jp2'\n",
    "SWIR_BAND_60M_FILENAME = 'B11_60m.jp2'\n"
   ]
  },
  {
   "cell_type": "code",
   "execution_count": 36,
   "metadata": {},
   "outputs": [
    {
     "name": "stdout",
     "output_type": "stream",
     "text": [
      "['data/GRANULE/L2A_T33TVM_A048639_20241014T101725/IMG_DATA/T33TVM_20241014T101021_B04_10m.jp2']\n"
     ]
    }
   ],
   "source": [
    "def calculate_evi(nir_band_path, red_band_path, blue_band_path):\n",
    "    red_band = rasterio.open(red_band_path).read(1)\n",
    "    blue_band = rasterio.open(blue_band_path).read(1)\n",
    "    nir_band = rasterio.open(nir_band_path).read(1)\n",
    "\n",
    "    evi = (nir_band - red_band) / (nir_band + 6 * red_band - 7.5 * blue_band + 1)\n",
    "\n",
    "    plt.figure(figsize=(10,6))\n",
    "    plt.imshow(evi, cmap='RdYlGn')\n",
    "    plt.colorbar()\n",
    "    plt.title(\"EVI\")\n",
    "    plt.show()\n",
    "\n",
    "def calculate_ndvi(nir_band_path, red_band_path): #NIR(8) and Red band (4) 10m resolution\n",
    "    red_band = rasterio.open(red_band_path).read(1)\n",
    "    nir_band = rasterio.open(nir_band_path).read(1)\n",
    "    \n",
    "    ndvi = (nir_band - red_band) / (nir_band + red_band)\n",
    "    \n",
    "    plt.figure(figsize=(10,6))\n",
    "    plt.imshow(ndvi, cmap='RdYlGn')\n",
    "    plt.colorbar()\n",
    "    plt.title(\"NDVI\")\n",
    "    plt.show()\n",
    "\n",
    "def calculate_gndvi(green_band_path, nir_band_path):\n",
    "    green_band = rasterio.open(green_band_path).read(1)\n",
    "    nir_band = rasterio.open(nir_band_path).read(1)\n",
    "\n",
    "    gndvi = (nir_band - green_band) / (nir_band + green_band)\n",
    "\n",
    "    plt.figure(figsize=(10,6))\n",
    "    plt.imshow(gndvi, cmap='RdYlGn')\n",
    "    plt.colorbar()\n",
    "    plt.title(\"GNDVI\")\n",
    "    plt.show()\n",
    "\n",
    "def calculate_msi(swir_path, near_nir_band_path): #NIR 20M\n",
    "    swir_band = rasterio.open(swir_path).read(1)\n",
    "    near_nri_band = rasterio.open(near_nir_band_path).read(1)\n",
    "\n",
    "    msi = swir_band / near_nri_band\n",
    "\n",
    "    plt.figure(figsize=(10,6))\n",
    "    plt.imshow(msi, cmap='RdYlBu')\n",
    "    plt.colorbar()\n",
    "    plt.title(\"MSI\")\n",
    "    plt.show()\n",
    "\n",
    "def calculate_ndwi(green_band_path, swir_band_path): #SWIR 20M\n",
    "    green_band = rasterio.open(green_band_path).read(1)\n",
    "    swir_band = rasterio.open(swir_band_path).read(1)\n",
    "\n",
    "    ndwi = (green_band - swir_band) / (green_band + swir_band)\n",
    "\n",
    "    plt.figure(figsize=(10,6))\n",
    "    plt.imshow(ndwi, cmap='Blues')\n",
    "    plt.colorbar()\n",
    "    plt.title(\"NDWI\")\n",
    "    plt.show()\n",
    "\n",
    "def calculate_ndbi(swir_band_path, near_nir_band_path): #SWIR & NIR 20M\n",
    "    swir_band = rasterio.open(swir_band_path).read(1)\n",
    "    near_nir_band = rasterio.open(near_nir_band_path).read(1)\n",
    "\n",
    "    ndbi = (swir_band - near_nir_band) / (swir_band + near_nir_band)\n",
    "\n",
    "    plt.figure(figsize=(10,6))\n",
    "    plt.imshow(ndbi, cmap='RdYlBu')\n",
    "    plt.colorbar()\n",
    "    plt.title(\"NDBI\")\n",
    "    plt.show()\n",
    "\n",
    "def calculate_ndmi(water_vapor_band_path, near_nir_band_path): #Near NIR 60M\n",
    "    water_vapor_band = rasterio.open(water_vapor_band_path).read(1)\n",
    "    near_nir_band = rasterio.open(near_nir_band_path).read(1)\n",
    "\n",
    "    ndmi = (water_vapor_band - near_nir_band) / (water_vapor_band + near_nir_band)\n",
    "\n",
    "    plt.figure(figsize=(10,6))\n",
    "    plt.imshow(ndmi, cmap='BrBG')\n",
    "    plt.colorbar()\n",
    "    plt.title(\"NDMI\")\n",
    "    plt.show()\n",
    "\n",
    "\n",
    "\n",
    "red_band_path = glob.glob(os.path.join(DIRECTORY_PATH, '*' + BLUE_BAND_10M_FILENAME))\n",
    "\n",
    "print(red_band_path)\n",
    "\n",
    "    \n"
   ]
  },
  {
   "cell_type": "code",
   "execution_count": 3,
   "metadata": {},
   "outputs": [
    {
     "name": "stderr",
     "output_type": "stream",
     "text": [
      "/tmp/ipykernel_20743/3622613604.py:24: RuntimeWarning: invalid value encountered in divide\n",
      "  ndvi = np.where((red_band + nir_band) == 0, 0, (nir_band - red_band) / (nir_band + red_band))\n",
      "/tmp/ipykernel_20743/3622613604.py:25: RuntimeWarning: divide by zero encountered in divide\n",
      "  evi = (nir_band - red_band) / (nir_band + 6 * red_band - 7.5 * blue_band + 1)\n",
      "/tmp/ipykernel_20743/3622613604.py:27: RuntimeWarning: invalid value encountered in divide\n",
      "  ndwi = np.where((swir_band + green_band) == 0, 0, (green_band - swir_band) / (green_band + swir_band))\n",
      "/tmp/ipykernel_20743/3622613604.py:28: RuntimeWarning: invalid value encountered in divide\n",
      "  msi = swir_band / n_nir_band\n"
     ]
    },
    {
     "data": {
      "image/png": "[encoded data removed]",
      "text/plain": [
       "<Figure size 1000x600 with 2 Axes>"
      ]
     },
     "metadata": {},
     "output_type": "display_data"
    }
   ],
   "source": [
    "\n",
    "plt.figure(figsize=(10,6))\n",
    "plt.imshow(evi, cmap='RdYlGn')\n",
    "plt.colorbar()\n",
    "plt.title(\"MSI\")\n",
    "plt.show()\n",
    "\n",
    "# plt.figure(figsize=(10,6))\n",
    "# plt.imshow(ndwi, cmap='Blues', vmin=-1, vmax=1)\n",
    "# plt.colorbar()\n",
    "# plt.title(\"NDWI\")\n",
    "# plt.show()\n",
    "\n"
   ]
  }
 ],
 "metadata": {
  "kernelspec": {
   "display_name": ".venv",
   "language": "python",
   "name": "python3"
  },
  "language_info": {
   "codemirror_mode": {
    "name": "ipython",
    "version": 3
   },
   "file_extension": ".py",
   "mimetype": "text/x-python",
   "name": "python",
   "nbconvert_exporter": "python",
   "pygments_lexer": "ipython3",
   "version": "3.12.3"
  }
 },
 "nbformat": 4,
 "nbformat_minor": 2
}
